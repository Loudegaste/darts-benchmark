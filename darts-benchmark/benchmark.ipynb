{
 "cells": [
  {
   "cell_type": "code",
   "execution_count": 10,
   "metadata": {},
   "outputs": [],
   "source": [
    "!pip install -q darts==0.24 ray==2.3.1 optuna==3.1.0\n",
    "\n",
    "files = [\n",
    "    \"benchmark_tools.py\",\n",
    "    \"model_evaluation.py\",\n",
    "    \"optuna_search.py\",\n",
    "    \"param_space.py\",\n",
    "]\n",
    "for f in files:\n",
    "    url = f\"https://raw.githubusercontent.com/unit8co/darts/docs/benchmarks/experiments/{f}\"\n",
    "    !wget --no-cache --backups=1 {url}"
   ]
  },
  {
   "cell_type": "code",
   "execution_count": null,
   "metadata": {},
   "outputs": [],
   "source": [
    "from benchmark_tools import Dataset, experiment, silence_prompt\n",
    "from darts.models import NaiveSeasonal, NHiTSModel, Prophet\n",
    "from darts.utils import missing_values\n",
    "import warnings\n",
    "\n",
    "models = [NaiveSeasonal, NHiTSModel, Prophet]"
   ]
  },
  {
   "cell_type": "code",
   "execution_count": null,
   "metadata": {},
   "outputs": [],
   "source": [
    "from darts.datasets import AirPassengersDataset, WeatherDataset\n",
    "\n",
    "air_pass_series = missing_values.fill_missing_values(AirPassengersDataset().load())\n",
    "weather_ds = missing_values.fill_missing_values(WeatherDataset().load().resample(\"1h\"))[\n",
    "    -1500:\n",
    "]\n",
    "weather_past_cov = weather_ds[\n",
    "    [\"p (mbar)\", \"wv (m/s)\", \"wd (deg)\", \"rain (mm)\", \"raining (s)\", \"SWDR (W/m²)\"]\n",
    "]\n",
    "weather_series = weather_ds[\"T (degC)\"]\n",
    "\n",
    "dataset_air_passengers = Dataset(name=\"Air passengers\", series=air_pass_series)\n",
    "dataset_weather = Dataset(\n",
    "    name=\"Weather\", series=weather_series, past_covariates=weather_past_cov\n",
    ")"
   ]
  },
  {
   "cell_type": "code",
   "execution_count": null,
   "metadata": {},
   "outputs": [],
   "source": [
    "from optuna_search import optuna_search\n",
    "\n",
    "silence_prompt()\n",
    "best_params = optuna_search(\n",
    "    model_class=Prophet, **dataset_air_passengers._asdict(), time_budget=60\n",
    ")\n",
    "model = Prophet(**best_params)\n",
    "\n",
    "\n",
    "forecasts = model.historical_forecasts(series=dataset_air_passengers.series, start=0.8)\n",
    "\n",
    "dataset_air_passengers.series.plot(label=\"actual\")\n",
    "forecasts.plot(label=\"prediction\")"
   ]
  },
  {
   "cell_type": "code",
   "execution_count": null,
   "metadata": {},
   "outputs": [],
   "source": [
    "results = experiment(\n",
    "    list_datasets=[dataset_air_passengers, dataset_weather],\n",
    "    models=models,\n",
    "    grid_search=False,\n",
    "    forecast_horizon=0.05,\n",
    "    repeat=5,\n",
    "    silent_search=True,\n",
    ")\n",
    "\n",
    "print(\"\\n\\n\", results)"
   ]
  }
 ],
 "metadata": {
  "kernelspec": {
   "display_name": "Python 3.9.15 ('env_name')",
   "language": "python",
   "name": "python3"
  },
  "language_info": {
   "codemirror_mode": {
    "name": "ipython",
    "version": 3
   },
   "file_extension": ".py",
   "mimetype": "text/x-python",
   "name": "python",
   "nbconvert_exporter": "python",
   "pygments_lexer": "ipython3",
   "version": "3.9.15"
  },
  "orig_nbformat": 4,
  "vscode": {
   "interpreter": {
    "hash": "50106990e21d8b339b0d75f8ec00afb89c4ab0e971fb68456134876e1b48d47c"
   }
  }
 },
 "nbformat": 4,
 "nbformat_minor": 2
}
