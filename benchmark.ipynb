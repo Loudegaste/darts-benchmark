{
 "cells": [
  {
   "attachments": {},
   "cell_type": "markdown",
   "metadata": {},
   "source": [
    "# Darts benchamrk \n",
    "\n",
    "This notebook showcases tools developed for benchmarking the different forecasting models in Darts, which could be useful for other developers.\n",
    "We will showcase:\n",
    "\n",
    "**Auto-ML with Optuna and raytune**: hyperparameter tuning with predefined broad parameter space for all model supported<br />\n",
    "**Experiment**: A function to perform cross comparison of a list of models on a list of datasets"
   ]
  },
  {
   "cell_type": "code",
   "execution_count": null,
   "metadata": {},
   "outputs": [],
   "source": [
    "#@title Install dependencies\n",
    "!pip install -q git+https://github.com/Loudegaste/darts-benchmark\n",
    "\n",
    "from darts_benchmark.benchmark_tools import Dataset, experiment, silence_prompt\n",
    "from darts.models import NaiveSeasonal, NHiTSModel, Prophet\n",
    "from darts.utils import missing_values\n",
    "from darts_benchmark.optuna_search import optuna_search\n",
    "from darts.datasets import AirPassengersDataset, WeatherDataset\n",
    "\n",
    "models = [NaiveSeasonal, NHiTSModel, Prophet]"
   ]
  },
  {
   "attachments": {},
   "cell_type": "markdown",
   "metadata": {},
   "source": [
    "### Dataset loading\n",
    "To ensure a uniform structure for the data loading, each dataset must be contained in a ```benchmark_tools.Dataset``` Named tuple with the following fields:\n",
    "\n",
    "**name**: Dataset name for display<br />\n",
    "**series**: A darts.timeseries object<br />\n",
    "**future_covariates**:(Optional)<br />\n",
    "**past_covariates**:(Optional)<br />\n",
    "\n"
   ]
  },
  {
   "cell_type": "code",
   "execution_count": 7,
   "metadata": {},
   "outputs": [],
   "source": [
    "#@title Load two datasets\n",
    "\n",
    "air_pass_series = missing_values.fill_missing_values(AirPassengersDataset().load())\n",
    "weather_ds = missing_values.fill_missing_values(WeatherDataset().load().resample(\"1h\"))[\n",
    "    -1500:\n",
    "]\n",
    "weather_past_cov = weather_ds[\n",
    "    [\"p (mbar)\", \"wv (m/s)\", \"wd (deg)\", \"rain (mm)\", \"raining (s)\", \"SWDR (W/m²)\"]\n",
    "]\n",
    "weather_series = weather_ds[\"T (degC)\"]\n",
    "\n",
    "dataset_air_passengers = Dataset(name=\"Air passengers\", series=air_pass_series)\n",
    "dataset_weather = Dataset(\n",
    "    name=\"Weather\", series=weather_series, past_covariates=weather_past_cov\n",
    ")"
   ]
  },
  {
   "cell_type": "code",
   "execution_count": null,
   "metadata": {},
   "outputs": [],
   "source": [
    "#@title Load two datasets\n",
    "\n",
    "silence_prompt()\n",
    "best_params = optuna_search(\n",
    "    model_class=Prophet, **dataset_air_passengers._asdict(), time_budget=60\n",
    ")\n",
    "\n",
    "# display the output after hyperparameter search\n",
    "model = Prophet(**best_params)\n",
    "forecasts = model.historical_forecasts(series=dataset_air_passengers.series, start=0.8)\n",
    "dataset_air_passengers.series.plot(label=\"actual\")\n",
    "forecasts.plot(label=\"prediction\")"
   ]
  },
  {
   "cell_type": "code",
   "execution_count": null,
   "metadata": {},
   "outputs": [],
   "source": [
    "results = experiment(\n",
    "    list_datasets=[dataset_air_passengers, dataset_weather],\n",
    "    models=models,\n",
    "    grid_search=False,\n",
    "    forecast_horizon=0.05, # the forecast horizon will be set to 5% of the test set length\n",
    "    repeat=3,\n",
    "    silent_search=True,\n",
    ")\n",
    "\n",
    "print(\"\\n\\n\", results)"
   ]
  }
 ],
 "metadata": {
  "kernelspec": {
   "display_name": "Python 3.9.15 ('env_name')",
   "language": "python",
   "name": "python3"
  },
  "language_info": {
   "codemirror_mode": {
    "name": "ipython",
    "version": 3
   },
   "file_extension": ".py",
   "mimetype": "text/x-python",
   "name": "python",
   "nbconvert_exporter": "python",
   "pygments_lexer": "ipython3",
   "version": "3.9.15"
  },
  "orig_nbformat": 4,
  "vscode": {
   "interpreter": {
    "hash": "50106990e21d8b339b0d75f8ec00afb89c4ab0e971fb68456134876e1b48d47c"
   }
  }
 },
 "nbformat": 4,
 "nbformat_minor": 2
}
